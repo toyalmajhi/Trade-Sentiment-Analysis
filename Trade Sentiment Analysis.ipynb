{
 "cells": [
  {
   "cell_type": "code",
   "execution_count": 2,
   "id": "40d50684-47d4-4c8b-a3b3-ce6d324825d7",
   "metadata": {},
   "outputs": [],
   "source": [
    "# importing libraries\n",
    "import numpy as np\n",
    "import pandas as pd\n",
    "import matplotlib.pyplot as plt\n",
    "%matplotlib inline\n",
    "import seaborn as sns\n",
    "from datetime import datetime"
   ]
  },
  {
   "cell_type": "code",
   "execution_count": 3,
   "id": "f9462287-2310-426a-aa60-88f458342acb",
   "metadata": {},
   "outputs": [],
   "source": [
    "# ignore warnings\n",
    "import warnings\n",
    "warnings.filterwarnings('ignore')"
   ]
  },
  {
   "cell_type": "code",
   "execution_count": 4,
   "id": "2eab988b-3c81-4038-8f71-b6e3228d28d9",
   "metadata": {},
   "outputs": [],
   "source": [
    "# load datasets\n",
    "\n",
    "fg_df = pd.read_csv(r'C:\\Users\\boney\\OneDrive\\Desktop\\Trader Behavior & Market Analysis\\fear_greed_index.csv')\n",
    "hd_df = pd.read_csv(r'C:\\Users\\boney\\OneDrive\\Desktop\\Trader Behavior & Market Analysis\\historical_data.csv')"
   ]
  },
  {
   "cell_type": "code",
   "execution_count": 5,
   "id": "54186d9f-cf55-478e-a142-9bd25ed1372c",
   "metadata": {},
   "outputs": [
    {
     "name": "stdout",
     "output_type": "stream",
     "text": [
      "    timestamp  value classification      date\n",
      "0  1517463000     30           Fear  1-2-2018\n",
      "1  1517549400     15   Extreme Fear  2-2-2018\n",
      "2  1517635800     40           Fear  3-2-2018\n",
      "3  1517722200     24   Extreme Fear  4-2-2018\n",
      "4  1517808600     11   Extreme Fear  5-2-2018\n",
      "                                      Account  Coin  Execution Price  \\\n",
      "0  0xae5eacaf9c6b9111fd53034a602c192a04e082ed  @107           7.9769   \n",
      "1  0xae5eacaf9c6b9111fd53034a602c192a04e082ed  @107           7.9800   \n",
      "2  0xae5eacaf9c6b9111fd53034a602c192a04e082ed  @107           7.9855   \n",
      "3  0xae5eacaf9c6b9111fd53034a602c192a04e082ed  @107           7.9874   \n",
      "4  0xae5eacaf9c6b9111fd53034a602c192a04e082ed  @107           7.9894   \n",
      "\n",
      "   Size Tokens  Size USD Side Timestamp IST  Start Position Direction  \\\n",
      "0       986.87   7872.16  BUY    12-02-2024        0.000000       Buy   \n",
      "1        16.00    127.68  BUY    12-02-2024      986.524596       Buy   \n",
      "2       144.09   1150.63  BUY    12-02-2024     1002.518996       Buy   \n",
      "3       142.98   1142.04  BUY    12-02-2024     1146.558564       Buy   \n",
      "4         8.73     69.75  BUY    12-02-2024     1289.488521       Buy   \n",
      "\n",
      "   Closed PnL                                   Transaction Hash     Order ID  \\\n",
      "0         0.0  0xec09451986a1874e3a980418412fcd0201f500c95bac...  52017706630   \n",
      "1         0.0  0xec09451986a1874e3a980418412fcd0201f500c95bac...  52017706630   \n",
      "2         0.0  0xec09451986a1874e3a980418412fcd0201f500c95bac...  52017706630   \n",
      "3         0.0  0xec09451986a1874e3a980418412fcd0201f500c95bac...  52017706630   \n",
      "4         0.0  0xec09451986a1874e3a980418412fcd0201f500c95bac...  52017706630   \n",
      "\n",
      "   Crossed       Fee      Trade ID     Timestamp  \n",
      "0     True  0.345404  8.950000e+14  1.730000e+12  \n",
      "1     True  0.005600  4.430000e+14  1.730000e+12  \n",
      "2     True  0.050431  6.600000e+14  1.730000e+12  \n",
      "3     True  0.050043  1.080000e+15  1.730000e+12  \n",
      "4     True  0.003055  1.050000e+15  1.730000e+12  \n"
     ]
    }
   ],
   "source": [
    "# strutural view\n",
    "print(fg_df.head())\n",
    "print(hd_df.head())"
   ]
  },
  {
   "cell_type": "code",
   "execution_count": 6,
   "id": "807ea40e-c2b9-408a-a71b-9b8a734f985b",
   "metadata": {
    "scrolled": true
   },
   "outputs": [
    {
     "name": "stdout",
     "output_type": "stream",
     "text": [
      "<class 'pandas.core.frame.DataFrame'>\n",
      "RangeIndex: 2644 entries, 0 to 2643\n",
      "Data columns (total 4 columns):\n",
      " #   Column          Non-Null Count  Dtype \n",
      "---  ------          --------------  ----- \n",
      " 0   timestamp       2644 non-null   int64 \n",
      " 1   value           2644 non-null   int64 \n",
      " 2   classification  2644 non-null   object\n",
      " 3   date            2644 non-null   object\n",
      "dtypes: int64(2), object(2)\n",
      "memory usage: 82.8+ KB\n",
      "None\n",
      "<class 'pandas.core.frame.DataFrame'>\n",
      "RangeIndex: 211224 entries, 0 to 211223\n",
      "Data columns (total 16 columns):\n",
      " #   Column            Non-Null Count   Dtype  \n",
      "---  ------            --------------   -----  \n",
      " 0   Account           211224 non-null  object \n",
      " 1   Coin              211224 non-null  object \n",
      " 2   Execution Price   211224 non-null  float64\n",
      " 3   Size Tokens       211224 non-null  float64\n",
      " 4   Size USD          211224 non-null  float64\n",
      " 5   Side              211224 non-null  object \n",
      " 6   Timestamp IST     211224 non-null  object \n",
      " 7   Start Position    211224 non-null  float64\n",
      " 8   Direction         211224 non-null  object \n",
      " 9   Closed PnL        211224 non-null  float64\n",
      " 10  Transaction Hash  211224 non-null  object \n",
      " 11  Order ID          211224 non-null  int64  \n",
      " 12  Crossed           211224 non-null  bool   \n",
      " 13  Fee               211224 non-null  float64\n",
      " 14  Trade ID          211224 non-null  float64\n",
      " 15  Timestamp         211224 non-null  float64\n",
      "dtypes: bool(1), float64(8), int64(1), object(6)\n",
      "memory usage: 24.4+ MB\n",
      "None\n"
     ]
    }
   ],
   "source": [
    "# summary\n",
    "print(fg_df.info())\n",
    "print(hd_df.info())"
   ]
  },
  {
   "cell_type": "code",
   "execution_count": 7,
   "id": "6a3f8a2a",
   "metadata": {},
   "outputs": [],
   "source": [
    "# Clean column names\n",
    "hd_df.columns = hd_df.columns.str.strip().str.lower().str.replace(' ', '_')\n",
    "# fg_df is already has clean name"
   ]
  },
  {
   "cell_type": "code",
   "execution_count": 8,
   "id": "6c8a63b3-856c-45c4-a1f2-83be79cd4bbe",
   "metadata": {},
   "outputs": [],
   "source": [
    "# renaimg the col name\n",
    "#hd_df.rename(columns={'Timestamp IST': 'date'}, inplace=True)"
   ]
  },
  {
   "cell_type": "code",
   "execution_count": 9,
   "id": "2e84689c-f841-4e79-8817-68256d4080b3",
   "metadata": {},
   "outputs": [],
   "source": [
    "# convet timestamp_ist to date\n",
    "fg_df['date'] = pd.to_datetime(fg_df['date']).dt.date\n",
    "hd_df['date'] = pd.to_datetime(hd_df['timestamp_ist']).dt.date"
   ]
  },
  {
   "cell_type": "code",
   "execution_count": 10,
   "id": "8b6bc9e1-c769-401b-a24b-db5c21643ed2",
   "metadata": {},
   "outputs": [
    {
     "name": "stdout",
     "output_type": "stream",
     "text": [
      "    timestamp  value classification        date\n",
      "0  1517463000     30           Fear  2018-01-02\n",
      "                                      account  coin  execution_price  \\\n",
      "0  0xae5eacaf9c6b9111fd53034a602c192a04e082ed  @107           7.9769   \n",
      "\n",
      "   size_tokens  size_usd side timestamp_ist  start_position direction  \\\n",
      "0       986.87   7872.16  BUY    12-02-2024             0.0       Buy   \n",
      "\n",
      "   closed_pnl                                   transaction_hash     order_id  \\\n",
      "0         0.0  0xec09451986a1874e3a980418412fcd0201f500c95bac...  52017706630   \n",
      "\n",
      "   crossed       fee      trade_id     timestamp        date  \n",
      "0     True  0.345404  8.950000e+14  1.730000e+12  2024-12-02  \n"
     ]
    }
   ],
   "source": [
    "print(fg_df.head(1))\n",
    "print(hd_df.head(1))"
   ]
  },
  {
   "cell_type": "code",
   "execution_count": 11,
   "id": "31bf2305-8d19-4855-bd3b-bf1501d760cf",
   "metadata": {},
   "outputs": [
    {
     "data": {
      "text/html": [
       "<div>\n",
       "<style scoped>\n",
       "    .dataframe tbody tr th:only-of-type {\n",
       "        vertical-align: middle;\n",
       "    }\n",
       "\n",
       "    .dataframe tbody tr th {\n",
       "        vertical-align: top;\n",
       "    }\n",
       "\n",
       "    .dataframe thead th {\n",
       "        text-align: right;\n",
       "    }\n",
       "</style>\n",
       "<table border=\"1\" class=\"dataframe\">\n",
       "  <thead>\n",
       "    <tr style=\"text-align: right;\">\n",
       "      <th></th>\n",
       "      <th>account</th>\n",
       "      <th>coin</th>\n",
       "      <th>execution_price</th>\n",
       "      <th>size_tokens</th>\n",
       "      <th>size_usd</th>\n",
       "      <th>side</th>\n",
       "      <th>timestamp_ist</th>\n",
       "      <th>start_position</th>\n",
       "      <th>direction</th>\n",
       "      <th>closed_pnl</th>\n",
       "      <th>transaction_hash</th>\n",
       "      <th>order_id</th>\n",
       "      <th>crossed</th>\n",
       "      <th>fee</th>\n",
       "      <th>trade_id</th>\n",
       "      <th>timestamp</th>\n",
       "      <th>date</th>\n",
       "      <th>classification</th>\n",
       "    </tr>\n",
       "  </thead>\n",
       "  <tbody>\n",
       "    <tr>\n",
       "      <th>0</th>\n",
       "      <td>0xae5eacaf9c6b9111fd53034a602c192a04e082ed</td>\n",
       "      <td>@107</td>\n",
       "      <td>7.9769</td>\n",
       "      <td>986.87</td>\n",
       "      <td>7872.16</td>\n",
       "      <td>BUY</td>\n",
       "      <td>12-02-2024</td>\n",
       "      <td>0.000000</td>\n",
       "      <td>Buy</td>\n",
       "      <td>0.0</td>\n",
       "      <td>0xec09451986a1874e3a980418412fcd0201f500c95bac...</td>\n",
       "      <td>52017706630</td>\n",
       "      <td>True</td>\n",
       "      <td>0.345404</td>\n",
       "      <td>8.950000e+14</td>\n",
       "      <td>1.730000e+12</td>\n",
       "      <td>2024-12-02</td>\n",
       "      <td>Greed</td>\n",
       "    </tr>\n",
       "    <tr>\n",
       "      <th>1</th>\n",
       "      <td>0xae5eacaf9c6b9111fd53034a602c192a04e082ed</td>\n",
       "      <td>@107</td>\n",
       "      <td>7.9800</td>\n",
       "      <td>16.00</td>\n",
       "      <td>127.68</td>\n",
       "      <td>BUY</td>\n",
       "      <td>12-02-2024</td>\n",
       "      <td>986.524596</td>\n",
       "      <td>Buy</td>\n",
       "      <td>0.0</td>\n",
       "      <td>0xec09451986a1874e3a980418412fcd0201f500c95bac...</td>\n",
       "      <td>52017706630</td>\n",
       "      <td>True</td>\n",
       "      <td>0.005600</td>\n",
       "      <td>4.430000e+14</td>\n",
       "      <td>1.730000e+12</td>\n",
       "      <td>2024-12-02</td>\n",
       "      <td>Greed</td>\n",
       "    </tr>\n",
       "  </tbody>\n",
       "</table>\n",
       "</div>"
      ],
      "text/plain": [
       "                                      account  coin  execution_price  \\\n",
       "0  0xae5eacaf9c6b9111fd53034a602c192a04e082ed  @107           7.9769   \n",
       "1  0xae5eacaf9c6b9111fd53034a602c192a04e082ed  @107           7.9800   \n",
       "\n",
       "   size_tokens  size_usd side timestamp_ist  start_position direction  \\\n",
       "0       986.87   7872.16  BUY    12-02-2024        0.000000       Buy   \n",
       "1        16.00    127.68  BUY    12-02-2024      986.524596       Buy   \n",
       "\n",
       "   closed_pnl                                   transaction_hash     order_id  \\\n",
       "0         0.0  0xec09451986a1874e3a980418412fcd0201f500c95bac...  52017706630   \n",
       "1         0.0  0xec09451986a1874e3a980418412fcd0201f500c95bac...  52017706630   \n",
       "\n",
       "   crossed       fee      trade_id     timestamp        date classification  \n",
       "0     True  0.345404  8.950000e+14  1.730000e+12  2024-12-02          Greed  \n",
       "1     True  0.005600  4.430000e+14  1.730000e+12  2024-12-02          Greed  "
      ]
     },
     "execution_count": 11,
     "metadata": {},
     "output_type": "execute_result"
    }
   ],
   "source": [
    "#merge datasets\n",
    "merged_df = pd.merge(hd_df, fg_df[['date', 'classification']], on='date', how='left')\n",
    "merged_df.head(2)"
   ]
  },
  {
   "cell_type": "code",
   "execution_count": 12,
   "id": "ccd34957",
   "metadata": {},
   "outputs": [],
   "source": [
    "#profit\n",
    "merged_df['profit'] = merged_df['closed_pnl'] > 0"
   ]
  },
  {
   "cell_type": "code",
   "execution_count": 13,
   "id": "9252d6ba",
   "metadata": {},
   "outputs": [],
   "source": [
    "performance_df = merged_df.groupby(['account', 'classification']).agg({\n",
    "    'closed_pnl' : 'sum',\n",
    "    'size_tokens' : 'sum',\n",
    "    'profit' : 'mean'\n",
    "}).reset_index()"
   ]
  },
  {
   "cell_type": "code",
   "execution_count": 14,
   "id": "4566f2bb",
   "metadata": {},
   "outputs": [],
   "source": [
    "# rename for clarity\n",
    "\n",
    "performance_df.rename(columns={\n",
    "    'closed_pnl' : 'total_pnl',\n",
    "    'size_tokens' : 'total_size'\n",
    "}, inplace=True)"
   ]
  },
  {
   "cell_type": "code",
   "execution_count": 15,
   "id": "dcefa790",
   "metadata": {},
   "outputs": [
    {
     "data": {
      "text/html": [
       "<div>\n",
       "<style scoped>\n",
       "    .dataframe tbody tr th:only-of-type {\n",
       "        vertical-align: middle;\n",
       "    }\n",
       "\n",
       "    .dataframe tbody tr th {\n",
       "        vertical-align: top;\n",
       "    }\n",
       "\n",
       "    .dataframe thead th {\n",
       "        text-align: right;\n",
       "    }\n",
       "</style>\n",
       "<table border=\"1\" class=\"dataframe\">\n",
       "  <thead>\n",
       "    <tr style=\"text-align: right;\">\n",
       "      <th></th>\n",
       "      <th>account</th>\n",
       "      <th>classification</th>\n",
       "      <th>total_pnl</th>\n",
       "      <th>total_size</th>\n",
       "      <th>profit</th>\n",
       "    </tr>\n",
       "  </thead>\n",
       "  <tbody>\n",
       "    <tr>\n",
       "      <th>0</th>\n",
       "      <td>0x083384f897ee0f19899168e3b1bec365f52a9012</td>\n",
       "      <td>Extreme Fear</td>\n",
       "      <td>115287.0</td>\n",
       "      <td>600.0</td>\n",
       "      <td>0.018182</td>\n",
       "    </tr>\n",
       "  </tbody>\n",
       "</table>\n",
       "</div>"
      ],
      "text/plain": [
       "                                      account classification  total_pnl  \\\n",
       "0  0x083384f897ee0f19899168e3b1bec365f52a9012   Extreme Fear   115287.0   \n",
       "\n",
       "   total_size    profit  \n",
       "0       600.0  0.018182  "
      ]
     },
     "execution_count": 15,
     "metadata": {},
     "output_type": "execute_result"
    }
   ],
   "source": [
    "performance_df.head(1)"
   ]
  },
  {
   "cell_type": "code",
   "execution_count": 16,
   "id": "22a38a6f",
   "metadata": {},
   "outputs": [],
   "source": [
    "# average profit n loss by sentiment\n",
    "sentiment_pnl = performance_df.groupby('classification') ['total_pnl'].mean().reset_index() "
   ]
  },
  {
   "cell_type": "code",
   "execution_count": 17,
   "id": "f2ef38d4",
   "metadata": {},
   "outputs": [
    {
     "data": {
      "image/png": "[encoded data removed]",
      "text/plain": [
       "<Figure size 640x480 with 1 Axes>"
      ]
     },
     "metadata": {},
     "output_type": "display_data"
    }
   ],
   "source": [
    "sns.barplot(data = sentiment_pnl, x = 'classification', y = 'total_pnl')\n",
    "plt.title(\"Average Total Profit and Loss by sentiment\")\n",
    "plt.show()"
   ]
  },
  {
   "cell_type": "code",
   "execution_count": 18,
   "id": "278a8a28",
   "metadata": {},
   "outputs": [],
   "source": [
    "# average profit by sentiment\n",
    "sentiment_profit = performance_df.groupby('classification')['profit'].mean().reset_index() "
   ]
  },
  {
   "cell_type": "code",
   "execution_count": 19,
   "id": "124ab923",
   "metadata": {},
   "outputs": [
    {
     "data": {
      "image/png": "[encoded data removed]",
      "text/plain": [
       "<Figure size 640x480 with 1 Axes>"
      ]
     },
     "metadata": {},
     "output_type": "display_data"
    }
   ],
   "source": [
    "sns.barplot(data = sentiment_profit, x = 'classification', y = 'profit')\n",
    "plt.title(\"Average Profit by sentiment\")\n",
    "plt.ylabel(\"profit(%)\")\n",
    "plt.show()"
   ]
  },
  {
   "cell_type": "code",
   "execution_count": 20,
   "id": "704895cd",
   "metadata": {},
   "outputs": [],
   "source": [
    "# average trade size by sentiment\n",
    "sentiment_size = performance_df.groupby('classification')['total_size'].mean().reset_index()"
   ]
  },
  {
   "cell_type": "code",
   "execution_count": 21,
   "id": "b7388ebc",
   "metadata": {},
   "outputs": [
    {
     "data": {
      "image/png": "[encoded data removed]",
      "text/plain": [
       "<Figure size 640x480 with 1 Axes>"
      ]
     },
     "metadata": {},
     "output_type": "display_data"
    }
   ],
   "source": [
    "sns.barplot(data=sentiment_size, x='classification', y='total_size')\n",
    "plt.title(\"Average Size by Market Sentiment\")\n",
    "plt.ylabel(\"Total Size\")\n",
    "plt.show()"
   ]
  }
 ],
 "metadata": {
  "kernelspec": {
   "display_name": "base",
   "language": "python",
   "name": "python3"
  },
  "language_info": {
   "codemirror_mode": {
    "name": "ipython",
    "version": 3
   },
   "file_extension": ".py",
   "mimetype": "text/x-python",
   "name": "python",
   "nbconvert_exporter": "python",
   "pygments_lexer": "ipython3",
   "version": "3.12.4"
  }
 },
 "nbformat": 4,
 "nbformat_minor": 5
}
